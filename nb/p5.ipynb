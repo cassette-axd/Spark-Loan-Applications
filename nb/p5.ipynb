{
 "cells": [
  {
   "cell_type": "code",
   "execution_count": 1,
   "id": "1035c4d0-8921-42e3-bf5a-4ecf2668a56b",
   "metadata": {},
   "outputs": [],
   "source": [
    "# Casey Reyes & Joaquin Feria"
   ]
  },
  {
   "cell_type": "code",
   "execution_count": 2,
   "id": "8e51bfa4-0f2e-47f4-816b-d50f77d508d4",
   "metadata": {},
   "outputs": [],
   "source": [
    "!hdfs dfs -D dfs.replication=1 -cp -f data/*.csv hdfs://nn:9000/"
   ]
  },
  {
   "cell_type": "markdown",
   "id": "cc753b80-4100-49a4-8cc1-c7599c81c042",
   "metadata": {},
   "source": [
    "# Part 1: Filtering: RDDs, DataFrames, and Spark"
   ]
  },
  {
   "cell_type": "code",
   "execution_count": 3,
   "id": "a821c756-cbc1-4439-9108-bccd650fa784",
   "metadata": {},
   "outputs": [
    {
     "name": "stderr",
     "output_type": "stream",
     "text": [
      "Setting default log level to \"WARN\".\n",
      "To adjust logging level use sc.setLogLevel(newLevel). For SparkR, use setLogLevel(newLevel).\n",
      "23/11/11 02:22:06 WARN NativeCodeLoader: Unable to load native-hadoop library for your platform... using builtin-java classes where applicable\n"
     ]
    }
   ],
   "source": [
    "from pyspark.sql import SparkSession\n",
    "spark = (SparkSession.builder.appName(\"cs544\")\n",
    "         .master(\"spark://boss:7077\")\n",
    "         .config(\"spark.executor.memory\", \"512M\")\n",
    "         .config(\"spark.sql.warehouse.dir\", \"hdfs://nn:9000/user/hive/warehouse\")\n",
    "         .enableHiveSupport()\n",
    "         .getOrCreate())"
   ]
  },
  {
   "cell_type": "code",
   "execution_count": 4,
   "id": "b8544a80-3245-4b51-86dd-062cffb0290b",
   "metadata": {},
   "outputs": [
    {
     "name": "stderr",
     "output_type": "stream",
     "text": [
      "                                                                                \r"
     ]
    },
    {
     "data": {
      "text/plain": [
       "525"
      ]
     },
     "execution_count": 4,
     "metadata": {},
     "output_type": "execute_result"
    }
   ],
   "source": [
    "#q1\n",
    "\n",
    "# TODO: modify to treat the first row as a header\n",
    "# TODO: modify to infer the schema\n",
    "banks_df = (spark.read.format(\"csv\")\n",
    "            .option(\"header\", True)\n",
    "            .option(\"inferSchema\", True)\n",
    "            .load(\"hdfs://nn:9000/arid2017_to_lei_xref_csv.csv\"))\n",
    "rdd = banks_df.rdd\n",
    "filtered_banks = rdd.filter(lambda x: \"first\" in x[0].lower())\n",
    "filtered_banks.count()\n",
    "\n",
    "# filtered_bank_names = filtered_banks.collect()\n",
    "# for name in filtered_bank_names:\n",
    "#     print(name[0])"
   ]
  },
  {
   "cell_type": "code",
   "execution_count": 5,
   "id": "b88f2a05-8f26-4bc3-8774-d7f76297f533",
   "metadata": {},
   "outputs": [
    {
     "name": "stderr",
     "output_type": "stream",
     "text": [
      "                                                                                \r"
     ]
    },
    {
     "data": {
      "text/plain": [
       "525"
      ]
     },
     "execution_count": 5,
     "metadata": {},
     "output_type": "execute_result"
    }
   ],
   "source": [
    "#q2\n",
    "from pyspark.sql.functions import expr, col, lower\n",
    "\n",
    "col(\"respondent_name\")\n",
    "expr(\"respondent_name\")\n",
    "\n",
    "filtered_df = banks_df.filter(lower(expr(\"respondent_name\")).like(\"%first%\"))\n",
    "filtered_pandas_df = filtered_df.select(\"respondent_name\")\n",
    "filtered_pandas_df.count()"
   ]
  },
  {
   "cell_type": "code",
   "execution_count": 6,
   "id": "8c0e5f12-e6d1-4487-a5b9-e7f73e2376ad",
   "metadata": {},
   "outputs": [
    {
     "name": "stderr",
     "output_type": "stream",
     "text": [
      "23/11/11 02:22:48 WARN HiveConf: HiveConf of name hive.stats.jdbc.timeout does not exist\n",
      "23/11/11 02:22:48 WARN HiveConf: HiveConf of name hive.stats.retries.wait does not exist\n",
      "23/11/11 02:22:53 WARN ObjectStore: Version information not found in metastore. hive.metastore.schema.verification is not enabled so recording the schema version 2.3.0\n",
      "23/11/11 02:22:53 WARN ObjectStore: setMetaStoreSchemaVersion called but recording version is disabled: version = 2.3.0, comment = Set by MetaStore UNKNOWN@172.20.0.4\n",
      "23/11/11 02:22:54 WARN ObjectStore: Failed to get database global_temp, returning NoSuchObjectException\n",
      "23/11/11 02:22:55 WARN HadoopFSUtils: The directory hdfs://nn:9000/user/hive/warehouse/banks was not found. Was it deleted very recently?\n",
      "23/11/11 02:22:56 WARN FileUtils: File does not exist: hdfs://nn:9000/user/hive/warehouse/banks; Force to delete it.\n",
      "23/11/11 02:22:56 ERROR FileUtils: Failed to delete hdfs://nn:9000/user/hive/warehouse/banks\n",
      "23/11/11 02:22:59 WARN SessionState: METASTORE_FILTER_HOOK will be ignored, since hive.security.authorization.manager is set to instance of HiveAuthorizerFactory.\n",
      "23/11/11 02:22:59 WARN HiveConf: HiveConf of name hive.internal.ss.authz.settings.applied.marker does not exist\n",
      "23/11/11 02:22:59 WARN HiveConf: HiveConf of name hive.stats.jdbc.timeout does not exist\n",
      "23/11/11 02:22:59 WARN HiveConf: HiveConf of name hive.stats.retries.wait does not exist\n",
      "                                                                                \r"
     ]
    },
    {
     "data": {
      "text/plain": [
       "525"
      ]
     },
     "execution_count": 6,
     "metadata": {},
     "output_type": "execute_result"
    }
   ],
   "source": [
    "#q3\n",
    "\n",
    "banks_df.write.saveAsTable(\"banks\", mode=\"overwrite\")\n",
    "filtered_df = spark.sql(\"SELECT * FROM banks WHERE LOWER(respondent_name) LIKE '%first%'\")\n",
    "filtered_df.count()"
   ]
  },
  {
   "cell_type": "markdown",
   "id": "f5cf366f-32af-4056-a348-f5da028f744b",
   "metadata": {},
   "source": [
    "## Part 2: Hive Data Warehouse"
   ]
  },
  {
   "cell_type": "code",
   "execution_count": 7,
   "id": "7ab4a9d6-3cfa-4db4-b0ec-7210f063fb52",
   "metadata": {},
   "outputs": [
    {
     "name": "stderr",
     "output_type": "stream",
     "text": [
      "23/11/11 02:23:13 WARN HadoopFSUtils: The directory hdfs://nn:9000/user/hive/warehouse/loans was not found. Was it deleted very recently?\n",
      "23/11/11 02:23:14 WARN FileUtils: File does not exist: hdfs://nn:9000/user/hive/warehouse/loans; Force to delete it.\n",
      "23/11/11 02:23:14 ERROR FileUtils: Failed to delete hdfs://nn:9000/user/hive/warehouse/loans\n",
      "23/11/11 02:23:14 WARN SparkStringUtils: Truncated the string representation of a plan since it was too large. This behavior can be adjusted by setting 'spark.sql.debug.maxToStringFields'.\n",
      "23/11/11 02:23:40 WARN HiveExternalCatalog: Couldn't find corresponding Hive SerDe for data source provider csv. Persisting data source table `spark_catalog`.`default`.`loans` into Hive metastore in Spark SQL specific format, which is NOT compatible with Hive.\n"
     ]
    }
   ],
   "source": [
    "loans_df = (spark.read\n",
    "            .format(\"csv\")\n",
    "            .option(\"header\", True)\n",
    "            .option(\"inferSchema\", True)\n",
    "            .load(\"hdfs://nn:9000/hdma-wi-2021.csv\"))\n",
    "            # .createOrReplaceTempView(\"codes\"))\n",
    "(loans_df.write.format(\"csv\")\n",
    "            .bucketBy(8, 'county_code')\n",
    "            .mode(\"overwrite\")\n",
    "            .saveAsTable('loans'))\n",
    "\n",
    "# loans_df.printSchema\n",
    "views_list = [\"ethnicity\", \"race\", \"sex\", \"states\", \"counties\", \"tracts\", \"action_taken\", \"denial_reason\", \"loan_type\", \"loan_purpose\", \"preapproval\", \"property_type\"]\n",
    "for view in views_list:\n",
    "    loans_df.createOrReplaceTempView(view)"
   ]
  },
  {
   "cell_type": "code",
   "execution_count": 8,
   "id": "b6ce6eaf-ed70-4209-8f81-b8e591a84f1e",
   "metadata": {},
   "outputs": [
    {
     "data": {
      "text/plain": [
       "{'banks': False,\n",
       " 'loans': False,\n",
       " 'action_taken': True,\n",
       " 'counties': True,\n",
       " 'denial_reason': True,\n",
       " 'ethnicity': True,\n",
       " 'loan_purpose': True,\n",
       " 'loan_type': True,\n",
       " 'preapproval': True,\n",
       " 'property_type': True,\n",
       " 'race': True,\n",
       " 'sex': True,\n",
       " 'states': True,\n",
       " 'tracts': True}"
      ]
     },
     "execution_count": 8,
     "metadata": {},
     "output_type": "execute_result"
    }
   ],
   "source": [
    "#q4\n",
    "\n",
    "# spark.sql(\"SHOW TABLES\").show()\n",
    "tables_df = spark.sql(\"SHOW TABLES\")\n",
    "table_list = tables_df.collect()\n",
    "table_dict = {row['tableName']: row['isTemporary'] for row in table_list}\n",
    "table_dict"
   ]
  },
  {
   "cell_type": "code",
   "execution_count": 9,
   "id": "c8ae96cd-e15d-48e0-a198-96c6a0a3d723",
   "metadata": {},
   "outputs": [
    {
     "name": "stderr",
     "output_type": "stream",
     "text": [
      "                                                                                \r"
     ]
    },
    {
     "data": {
      "text/plain": [
       "19739"
      ]
     },
     "execution_count": 9,
     "metadata": {},
     "output_type": "execute_result"
    }
   ],
   "source": [
    "#q5\n",
    "\n",
    "bank_name = \"University of Wisconsin Credit Union\"\n",
    "total_df = banks_df.join(\n",
    "    loans_df,\n",
    "    loans_df[\"lei\"] == banks_df[\"lei_2020\"],\n",
    "    \"inner\"\n",
    ").filter(banks_df[\"respondent_name\"] == bank_name)\n",
    "total_df.count()"
   ]
  },
  {
   "cell_type": "code",
   "execution_count": 10,
   "id": "1457f9c9-91da-43b1-babc-21647100f208",
   "metadata": {},
   "outputs": [
    {
     "name": "stdout",
     "output_type": "stream",
     "text": [
      "== Physical Plan ==\n",
      "AdaptiveSparkPlan (7)\n",
      "+- BroadcastHashJoin Inner BuildLeft (6)\n",
      "   :- BroadcastExchange (3)\n",
      "   :  +- Filter (2)\n",
      "   :     +- Scan csv  (1)\n",
      "   +- Filter (5)\n",
      "      +- Scan csv  (4)\n",
      "\n",
      "\n",
      "(1) Scan csv \n",
      "Output [5]: [respondent_name#17, arid_2017#18, lei_2018#19, lei_2019#20, lei_2020#21]\n",
      "Batched: false\n",
      "Location: InMemoryFileIndex [hdfs://nn:9000/arid2017_to_lei_xref_csv.csv]\n",
      "PushedFilters: [IsNotNull(respondent_name), EqualTo(respondent_name,University of Wisconsin Credit Union), IsNotNull(lei_2020)]\n",
      "ReadSchema: struct<respondent_name:string,arid_2017:string,lei_2018:string,lei_2019:string,lei_2020:string>\n",
      "\n",
      "(2) Filter\n",
      "Input [5]: [respondent_name#17, arid_2017#18, lei_2018#19, lei_2019#20, lei_2020#21]\n",
      "Condition : ((isnotnull(respondent_name#17) AND (respondent_name#17 = University of Wisconsin Credit Union)) AND isnotnull(lei_2020#21))\n",
      "\n",
      "(3) BroadcastExchange\n",
      "Input [5]: [respondent_name#17, arid_2017#18, lei_2018#19, lei_2019#20, lei_2020#21]\n",
      "Arguments: HashedRelationBroadcastMode(List(input[4, string, false]),false), [plan_id=367]\n",
      "\n",
      "(4) Scan csv \n",
      "Output [99]: [activity_year#99, lei#100, derived_msa-md#101, state_code#102, county_code#103, census_tract#104, conforming_loan_limit#105, derived_loan_product_type#106, derived_dwelling_category#107, derived_ethnicity#108, derived_race#109, derived_sex#110, action_taken#111, purchaser_type#112, preapproval#113, loan_type#114, loan_purpose#115, lien_status#116, reverse_mortgage#117, open-end_line_of_credit#118, business_or_commercial_purpose#119, loan_amount#120, loan_to_value_ratio#121, interest_rate#122, rate_spread#123, hoepa_status#124, total_loan_costs#125, total_points_and_fees#126, origination_charges#127, discount_points#128, lender_credits#129, loan_term#130, prepayment_penalty_term#131, intro_rate_period#132, negative_amortization#133, interest_only_payment#134, balloon_payment#135, other_nonamortizing_features#136, property_value#137, construction_method#138, occupancy_type#139, manufactured_home_secured_property_type#140, manufactured_home_land_property_interest#141, total_units#142, multifamily_affordable_units#143, income#144, debt_to_income_ratio#145, applicant_credit_score_type#146, co-applicant_credit_score_type#147, applicant_ethnicity-1#148, applicant_ethnicity-2#149, applicant_ethnicity-3#150, applicant_ethnicity-4#151, applicant_ethnicity-5#152, co-applicant_ethnicity-1#153, co-applicant_ethnicity-2#154, co-applicant_ethnicity-3#155, co-applicant_ethnicity-4#156, co-applicant_ethnicity-5#157, applicant_ethnicity_observed#158, co-applicant_ethnicity_observed#159, applicant_race-1#160, applicant_race-2#161, applicant_race-3#162, applicant_race-4#163, applicant_race-5#164, co-applicant_race-1#165, co-applicant_race-2#166, co-applicant_race-3#167, co-applicant_race-4#168, co-applicant_race-5#169, applicant_race_observed#170, co-applicant_race_observed#171, applicant_sex#172, co-applicant_sex#173, applicant_sex_observed#174, co-applicant_sex_observed#175, applicant_age#176, co-applicant_age#177, applicant_age_above_62#178, co-applicant_age_above_62#179, submission_of_application#180, initially_payable_to_institution#181, aus-1#182, aus-2#183, aus-3#184, aus-4#185, aus-5#186, denial_reason-1#187, denial_reason-2#188, denial_reason-3#189, denial_reason-4#190, tract_population#191, tract_minority_population_percent#192, ffiec_msa_md_median_family_income#193, tract_to_msa_income_percentage#194, tract_owner_occupied_units#195, tract_one_to_four_family_homes#196, tract_median_age_of_housing_units#197]\n",
      "Batched: false\n",
      "Location: InMemoryFileIndex [hdfs://nn:9000/hdma-wi-2021.csv]\n",
      "PushedFilters: [IsNotNull(lei)]\n",
      "ReadSchema: struct<activity_year:int,lei:string,derived_msa-md:int,state_code:string,county_code:string,census_tract:string,conforming_loan_limit:string,derived_loan_product_type:string,derived_dwelling_category:string,derived_ethnicity:string,derived_race:string,derived_sex:string,action_taken:int,purchaser_type:int,preapproval:int,loan_type:int,loan_purpose:int,lien_status:int,reverse_mortgage:int,open-end_line_of_credit:int,business_or_commercial_purpose:int,loan_amount:double,loan_to_value_ratio:string,interest_rate:string,rate_spread:string,hoepa_status:int,total_loan_costs:string,total_points_and_fees:string,origination_charges:string,discount_points:string,lender_credits:string,loan_term:string,prepayment_penalty_term:string,intro_rate_period:string,negative_amortization:int,interest_only_payment:int,balloon_payment:int,other_nonamortizing_features:int,property_value:string,construction_method:int,occupancy_type:int,manufactured_home_secured_property_type:int,manufactured_home_land_property_interest:int,total_units:string,multifamily_affordable_units:string,income:string,debt_to_income_ratio:string,applicant_credit_score_type:int,co-applicant_credit_score_type:int,applicant_ethnicity-1:int,applicant_ethnicity-2:int,applicant_ethnicity-3:int,applicant_ethnicity-4:int,applicant_ethnicity-5:int,co-applicant_ethnicity-1:int,co-applicant_ethnicity-2:int,co-applicant_ethnicity-3:int,co-applicant_ethnicity-4:int,co-applicant_ethnicity-5:string,applicant_ethnicity_observed:int,co-applicant_ethnicity_observed:int,applicant_race-1:int,applicant_race-2:int,applicant_race-3:int,applicant_race-4:int,applicant_race-5:int,co-applicant_race-1:int,co-applicant_race-2:int,co-applicant_race-3:int,co-applicant_race-4:int,co-applicant_race-5:int,applicant_race_observed:int,co-applicant_race_observed:int,applicant_sex:int,co-applicant_sex:int,applicant_sex_observed:int,co-applicant_sex_observed:int,applicant_age:string,co-applicant_age:string,applicant_age_above_62:string,co-applicant_age_above_62:string,submission_of_application:int,initially_payable_to_institution:int,aus-1:int,aus-2:int,aus-3:int,aus-4:int,aus-5:int,denial_reason-1:int,denial_reason-2:int,denial_reason-3:int,denial_reason-4:int,tract_population:int,tract_minority_population_percent:double,ffiec_msa_md_median_family_income:int,tract_to_msa_income_percentage:int,tract_owner_occupied_units:int,tract_one_to_four_family_homes:int,tract_median_age_of_housing_units:int>\n",
      "\n",
      "(5) Filter\n",
      "Input [99]: [activity_year#99, lei#100, derived_msa-md#101, state_code#102, county_code#103, census_tract#104, conforming_loan_limit#105, derived_loan_product_type#106, derived_dwelling_category#107, derived_ethnicity#108, derived_race#109, derived_sex#110, action_taken#111, purchaser_type#112, preapproval#113, loan_type#114, loan_purpose#115, lien_status#116, reverse_mortgage#117, open-end_line_of_credit#118, business_or_commercial_purpose#119, loan_amount#120, loan_to_value_ratio#121, interest_rate#122, rate_spread#123, hoepa_status#124, total_loan_costs#125, total_points_and_fees#126, origination_charges#127, discount_points#128, lender_credits#129, loan_term#130, prepayment_penalty_term#131, intro_rate_period#132, negative_amortization#133, interest_only_payment#134, balloon_payment#135, other_nonamortizing_features#136, property_value#137, construction_method#138, occupancy_type#139, manufactured_home_secured_property_type#140, manufactured_home_land_property_interest#141, total_units#142, multifamily_affordable_units#143, income#144, debt_to_income_ratio#145, applicant_credit_score_type#146, co-applicant_credit_score_type#147, applicant_ethnicity-1#148, applicant_ethnicity-2#149, applicant_ethnicity-3#150, applicant_ethnicity-4#151, applicant_ethnicity-5#152, co-applicant_ethnicity-1#153, co-applicant_ethnicity-2#154, co-applicant_ethnicity-3#155, co-applicant_ethnicity-4#156, co-applicant_ethnicity-5#157, applicant_ethnicity_observed#158, co-applicant_ethnicity_observed#159, applicant_race-1#160, applicant_race-2#161, applicant_race-3#162, applicant_race-4#163, applicant_race-5#164, co-applicant_race-1#165, co-applicant_race-2#166, co-applicant_race-3#167, co-applicant_race-4#168, co-applicant_race-5#169, applicant_race_observed#170, co-applicant_race_observed#171, applicant_sex#172, co-applicant_sex#173, applicant_sex_observed#174, co-applicant_sex_observed#175, applicant_age#176, co-applicant_age#177, applicant_age_above_62#178, co-applicant_age_above_62#179, submission_of_application#180, initially_payable_to_institution#181, aus-1#182, aus-2#183, aus-3#184, aus-4#185, aus-5#186, denial_reason-1#187, denial_reason-2#188, denial_reason-3#189, denial_reason-4#190, tract_population#191, tract_minority_population_percent#192, ffiec_msa_md_median_family_income#193, tract_to_msa_income_percentage#194, tract_owner_occupied_units#195, tract_one_to_four_family_homes#196, tract_median_age_of_housing_units#197]\n",
      "Condition : isnotnull(lei#100)\n",
      "\n",
      "(6) BroadcastHashJoin\n",
      "Left keys [1]: [lei_2020#21]\n",
      "Right keys [1]: [lei#100]\n",
      "Join type: Inner\n",
      "Join condition: None\n",
      "\n",
      "(7) AdaptiveSparkPlan\n",
      "Output [104]: [respondent_name#17, arid_2017#18, lei_2018#19, lei_2019#20, lei_2020#21, activity_year#99, lei#100, derived_msa-md#101, state_code#102, county_code#103, census_tract#104, conforming_loan_limit#105, derived_loan_product_type#106, derived_dwelling_category#107, derived_ethnicity#108, derived_race#109, derived_sex#110, action_taken#111, purchaser_type#112, preapproval#113, loan_type#114, loan_purpose#115, lien_status#116, reverse_mortgage#117, open-end_line_of_credit#118, business_or_commercial_purpose#119, loan_amount#120, loan_to_value_ratio#121, interest_rate#122, rate_spread#123, hoepa_status#124, total_loan_costs#125, total_points_and_fees#126, origination_charges#127, discount_points#128, lender_credits#129, loan_term#130, prepayment_penalty_term#131, intro_rate_period#132, negative_amortization#133, interest_only_payment#134, balloon_payment#135, other_nonamortizing_features#136, property_value#137, construction_method#138, occupancy_type#139, manufactured_home_secured_property_type#140, manufactured_home_land_property_interest#141, total_units#142, multifamily_affordable_units#143, income#144, debt_to_income_ratio#145, applicant_credit_score_type#146, co-applicant_credit_score_type#147, applicant_ethnicity-1#148, applicant_ethnicity-2#149, applicant_ethnicity-3#150, applicant_ethnicity-4#151, applicant_ethnicity-5#152, co-applicant_ethnicity-1#153, co-applicant_ethnicity-2#154, co-applicant_ethnicity-3#155, co-applicant_ethnicity-4#156, co-applicant_ethnicity-5#157, applicant_ethnicity_observed#158, co-applicant_ethnicity_observed#159, applicant_race-1#160, applicant_race-2#161, applicant_race-3#162, applicant_race-4#163, applicant_race-5#164, co-applicant_race-1#165, co-applicant_race-2#166, co-applicant_race-3#167, co-applicant_race-4#168, co-applicant_race-5#169, applicant_race_observed#170, co-applicant_race_observed#171, applicant_sex#172, co-applicant_sex#173, applicant_sex_observed#174, co-applicant_sex_observed#175, applicant_age#176, co-applicant_age#177, applicant_age_above_62#178, co-applicant_age_above_62#179, submission_of_application#180, initially_payable_to_institution#181, aus-1#182, aus-2#183, aus-3#184, aus-4#185, aus-5#186, denial_reason-1#187, denial_reason-2#188, denial_reason-3#189, denial_reason-4#190, tract_population#191, tract_minority_population_percent#192, ffiec_msa_md_median_family_income#193, tract_to_msa_income_percentage#194, tract_owner_occupied_units#195, tract_one_to_four_family_homes#196, tract_median_age_of_housing_units#197]\n",
      "Arguments: isFinalPlan=false\n",
      "\n",
      "\n"
     ]
    }
   ],
   "source": [
    "#q6\n",
    "\n",
    "#1. The table in input[4], lei_2020.\n",
    "#2. It does not involve hash aggregates.\n",
    "\n",
    "total_df.explain(\"formatted\")"
   ]
  },
  {
   "cell_type": "markdown",
   "id": "5b284782-aa51-4612-ac10-2cc9d25dc2d9",
   "metadata": {},
   "source": [
    "## Part 3: Grouping Rows"
   ]
  },
  {
   "cell_type": "code",
   "execution_count": 11,
   "id": "cdfd2366-f2a2-4c6e-9b1f-5913a9d422d4",
   "metadata": {},
   "outputs": [
    {
     "name": "stderr",
     "output_type": "stream",
     "text": [
      "                                                                                \r"
     ]
    },
    {
     "data": {
      "text/plain": [
       "{'Milwaukee': 3.1173465727097907,\n",
       " 'Waukesha': 2.8758225602027756,\n",
       " 'Washington': 2.851009389671362,\n",
       " 'Dane': 2.890674955595027,\n",
       " 'Brown': 3.010949119373777,\n",
       " 'Racine': 3.099783715012723,\n",
       " 'Outagamie': 2.979661835748792,\n",
       " 'Winnebago': 3.0284761904761908,\n",
       " 'Ozaukee': 2.8673765432098772,\n",
       " 'Sheboygan': 2.995511111111111}"
      ]
     },
     "execution_count": 11,
     "metadata": {},
     "output_type": "execute_result"
    }
   ],
   "source": [
    "#q7\n",
    "from pyspark.sql.functions import avg, count\n",
    "\n",
    "counties_df = (spark.read\n",
    "            .format(\"csv\")\n",
    "            .option(\"header\", True)\n",
    "            .option(\"inferSchema\", True)\n",
    "            .load(\"hdfs://nn:9000/counties.csv\"))\n",
    "\n",
    "joined_df = banks_df.join(\n",
    "    loans_df,\n",
    "    loans_df[\"lei\"] == banks_df[\"lei_2020\"],\n",
    "    \"inner\"\n",
    ").filter(banks_df[\"respondent_name\"].like(\"%Wells Fargo%\"))\n",
    "result = (joined_df\n",
    " .join(counties_df, on=loans_df[\"county_code\"] == counties_df[\"STATE\"] * 1000 + counties_df[\"COUNTY\"])\n",
    " .groupBy(\"NAME\")\n",
    " .agg(avg(\"interest_rate\").alias(\"avg_interest_rate\"), count(\"*\").alias(\"application_count\"))\n",
    " .orderBy(\"application_count\", ascending=False)\n",
    " .select(\"NAME\", \"avg_interest_rate\")\n",
    " .limit(10))\n",
    " # .show())\n",
    "\n",
    "result_list = result.rdd.map(lambda row: row.asDict()).collect()\n",
    "result_dict = {entry[\"NAME\"]: entry[\"avg_interest_rate\"] for entry in result_list}\n",
    "result_dict"
   ]
  },
  {
   "cell_type": "code",
   "execution_count": 12,
   "id": "57ddd221-b81c-4eaa-92b2-4235e81434bd",
   "metadata": {},
   "outputs": [
    {
     "data": {
      "image/png": "[encoded data removed]",
      "text/plain": [
       "<Figure size 600x600 with 1 Axes>"
      ]
     },
     "metadata": {},
     "output_type": "display_data"
    }
   ],
   "source": [
    "import matplotlib.pyplot as plt\n",
    "\n",
    "counties = list(result_dict.keys())\n",
    "avg_interest_rates = list(result_dict.values())\n",
    "\n",
    "plt.figure(figsize=(6, 6))\n",
    "plt.bar(counties, avg_interest_rates, width=0.5)\n",
    "plt.xlabel('name')\n",
    "plt.ylabel('Average Interest Rate')\n",
    "plt.xticks(rotation=90, ha='right')\n",
    "\n",
    "plt.show()"
   ]
  },
  {
   "cell_type": "code",
   "execution_count": 13,
   "id": "80d0e54f-5b0b-4c1b-b7d3-7a36e3ab862c",
   "metadata": {},
   "outputs": [
    {
     "name": "stdout",
     "output_type": "stream",
     "text": [
      "== Physical Plan ==\n",
      "AdaptiveSparkPlan isFinalPlan=false\n",
      "+- HashAggregate(keys=[county_code#103], functions=[avg(cast(interest_rate#122 as double))])\n",
      "   +- Exchange hashpartitioning(county_code#103, 200), ENSURE_REQUIREMENTS, [plan_id=652]\n",
      "      +- HashAggregate(keys=[county_code#103], functions=[partial_avg(cast(interest_rate#122 as double))])\n",
      "         +- FileScan csv [county_code#103,interest_rate#122] Batched: false, DataFilters: [], Format: CSV, Location: InMemoryFileIndex(1 paths)[hdfs://nn:9000/hdma-wi-2021.csv], PartitionFilters: [], PushedFilters: [], ReadSchema: struct<county_code:string,interest_rate:string>\n",
      "\n",
      "\n",
      "== Physical Plan ==\n",
      "AdaptiveSparkPlan isFinalPlan=false\n",
      "+- HashAggregate(keys=[lei#100], functions=[avg(cast(interest_rate#122 as double))])\n",
      "   +- Exchange hashpartitioning(lei#100, 200), ENSURE_REQUIREMENTS, [plan_id=665]\n",
      "      +- HashAggregate(keys=[lei#100], functions=[partial_avg(cast(interest_rate#122 as double))])\n",
      "         +- FileScan csv [lei#100,interest_rate#122] Batched: false, DataFilters: [], Format: CSV, Location: InMemoryFileIndex(1 paths)[hdfs://nn:9000/hdma-wi-2021.csv], PartitionFilters: [], PushedFilters: [], ReadSchema: struct<lei:string,interest_rate:string>\n",
      "\n",
      "\n"
     ]
    }
   ],
   "source": [
    "#q8\n",
    "\n",
    "(loans_df.groupBy(\"county_code\").agg({\"interest_rate\": \"mean\"}).explain())\n",
    "(loans_df.groupBy(\"lei\").agg({\"interest_rate\": \"mean\"}).explain())\n",
    "\n",
    "# We would require network I/O between the partial_mean and mean if the data that is being used to calculate mean is in different partitions."
   ]
  },
  {
   "cell_type": "markdown",
   "id": "1d84e3fd-293b-4d69-bcc4-f408a68450cb",
   "metadata": {},
   "source": [
    "## Part 4: Machine Learning"
   ]
  },
  {
   "cell_type": "code",
   "execution_count": 14,
   "id": "e7a83d07-4c99-4fc9-b2b3-a8a99106c7b5",
   "metadata": {},
   "outputs": [
    {
     "name": "stderr",
     "output_type": "stream",
     "text": [
      "/tmp/ipykernel_136/4041393036.py:15: FutureWarning: DataFrame.applymap has been deprecated. Use DataFrame.map instead.\n",
      "  df = df.applymap(pd.to_numeric, errors='coerce')\n",
      "/usr/local/lib/python3.10/dist-packages/pyspark/sql/pandas/conversion.py:485: FutureWarning: is_datetime64tz_dtype is deprecated and will be removed in a future version. Check `isinstance(dtype, pd.DatetimeTZDtype)` instead.\n",
      "  if should_localize and is_datetime64tz_dtype(s.dtype) and s.dt.tz is not None:\n",
      "23/11/11 02:25:03 WARN TaskSetManager: Stage 27 contains a task of very large size (8951 KiB). The maximum recommended task size is 1000 KiB.\n",
      "[Stage 27:>                                                         (0 + 1) / 1]\r"
     ]
    },
    {
     "name": "stdout",
     "output_type": "stream",
     "text": [
      "+-----------+------+-------------+--------+\n",
      "|loan_amount|income|interest_rate|approval|\n",
      "+-----------+------+-------------+--------+\n",
      "|   305000.0| 108.0|        3.875|     0.0|\n",
      "|    65000.0| 103.0|          0.0|     0.0|\n",
      "|    75000.0| 146.0|         3.25|     0.0|\n",
      "|   155000.0|  70.0|          4.0|     1.0|\n",
      "|   305000.0|  71.0|         3.25|     1.0|\n",
      "|   175000.0| 117.0|        3.375|     1.0|\n",
      "|   575000.0| 180.0|          4.5|     1.0|\n",
      "|   105000.0| 180.0|        5.375|     1.0|\n",
      "|    85000.0| 136.0|        3.375|     1.0|\n",
      "|   405000.0|   0.0|          0.0|     1.0|\n",
      "|   255000.0| 210.0|          0.0|     1.0|\n",
      "|   275000.0| 185.0|          0.0|     1.0|\n",
      "|   435000.0| 190.0|          0.0|     1.0|\n",
      "|   205000.0|   0.0|          0.0|     1.0|\n",
      "|   295000.0| 101.0|        2.999|     1.0|\n",
      "|   195000.0|  43.0|         2.75|     1.0|\n",
      "|   305000.0|   0.0|         2.25|     1.0|\n",
      "|   265000.0|  93.0|         2.75|     1.0|\n",
      "|   515000.0| 206.0|        2.875|     1.0|\n",
      "|   475000.0|   0.0|        1.999|     1.0|\n",
      "+-----------+------+-------------+--------+\n",
      "only showing top 20 rows\n",
      "\n"
     ]
    },
    {
     "name": "stderr",
     "output_type": "stream",
     "text": [
      "                                                                                \r"
     ]
    }
   ],
   "source": [
    "import pandas as pd\n",
    "import numpy as np\n",
    "from pyspark.sql import functions as F\n",
    "\n",
    "action_df = (spark.read\n",
    "            .format(\"csv\")\n",
    "            .option(\"header\", True)\n",
    "            .option(\"inferSchema\", True)\n",
    "            .load(\"hdfs://nn:9000/action_taken.csv\"))\n",
    "\n",
    "selected_columns = [\"loan_amount\", \"income\", \"interest_rate\", \"action_taken\"]\n",
    "label_column = \"approval\"\n",
    "\n",
    "df = loans_df.select(selected_columns).toPandas()\n",
    "df = df.applymap(pd.to_numeric, errors='coerce')\n",
    "df.fillna(0.0, inplace=True)\n",
    "\n",
    "df[\"loan_amount\"] = df[\"loan_amount\"].astype(float)\n",
    "df[\"interest_rate\"] = df[\"interest_rate\"].astype(float)\n",
    "df[\"income\"] = df[\"income\"].astype(float)\n",
    "df[\"approval\"] = df[\"action_taken\"].astype(float)\n",
    "\n",
    "df = spark.createDataFrame(df)\n",
    "\n",
    "df = df.withColumn(\n",
    "    \"approval\",\n",
    "    F.when(df[\"action_taken\"] == 1, 1.0).otherwise(0.0)\n",
    ")\n",
    "df = df.drop(\"action_taken\")\n",
    "df.show()"
   ]
  },
  {
   "cell_type": "code",
   "execution_count": 15,
   "id": "e46cd5a2-f1eb-4ae7-bf6a-ac8e2a313e20",
   "metadata": {},
   "outputs": [
    {
     "data": {
      "text/plain": [
       "DataFrame[loan_amount: double, income: double, interest_rate: double, approval: double]"
      ]
     },
     "execution_count": 15,
     "metadata": {},
     "output_type": "execute_result"
    }
   ],
   "source": [
    "train, test = df.randomSplit([0.8, 0.2], seed=41)\n",
    "train.cache()"
   ]
  },
  {
   "cell_type": "code",
   "execution_count": 16,
   "id": "c033607e-d2bb-4e89-ab88-2210b4c6de71",
   "metadata": {},
   "outputs": [
    {
     "name": "stderr",
     "output_type": "stream",
     "text": [
      "23/11/11 02:25:07 WARN TaskSetManager: Stage 28 contains a task of very large size (8951 KiB). The maximum recommended task size is 1000 KiB.\n",
      "23/11/11 02:25:19 WARN TaskSetManager: Stage 29 contains a task of very large size (8951 KiB). The maximum recommended task size is 1000 KiB.\n",
      "                                                                                \r"
     ]
    },
    {
     "data": {
      "text/plain": [
       "242976"
      ]
     },
     "execution_count": 16,
     "metadata": {},
     "output_type": "execute_result"
    }
   ],
   "source": [
    "#q9\n",
    "train.filter(df[\"approval\"] == 1.0).count()"
   ]
  },
  {
   "cell_type": "code",
   "execution_count": 17,
   "id": "de2f16d9-d50c-4276-a1d6-0de099d7a4ee",
   "metadata": {},
   "outputs": [
    {
     "name": "stderr",
     "output_type": "stream",
     "text": [
      "23/11/11 02:25:23 WARN TaskSetManager: Stage 32 contains a task of very large size (8951 KiB). The maximum recommended task size is 1000 KiB.\n",
      "23/11/11 02:25:27 WARN TaskSetManager: Stage 35 contains a task of very large size (8951 KiB). The maximum recommended task size is 1000 KiB.\n",
      "23/11/11 02:25:29 WARN TaskSetManager: Stage 36 contains a task of very large size (8987 KiB). The maximum recommended task size is 1000 KiB.\n",
      "23/11/11 02:25:36 WARN TaskSetManager: Stage 37 contains a task of very large size (8987 KiB). The maximum recommended task size is 1000 KiB.\n",
      "23/11/11 02:25:41 WARN TaskSetManager: Stage 39 contains a task of very large size (8987 KiB). The maximum recommended task size is 1000 KiB.\n",
      "23/11/11 02:25:47 WARN TaskSetManager: Stage 41 contains a task of very large size (8951 KiB). The maximum recommended task size is 1000 KiB.\n",
      "23/11/11 02:25:51 WARN TaskSetManager: Stage 43 contains a task of very large size (8987 KiB). The maximum recommended task size is 1000 KiB.\n",
      "23/11/11 02:25:54 WARN TaskSetManager: Stage 45 contains a task of very large size (8987 KiB). The maximum recommended task size is 1000 KiB.\n",
      "23/11/11 02:25:55 WARN TaskSetManager: Stage 47 contains a task of very large size (8951 KiB). The maximum recommended task size is 1000 KiB.\n",
      "                                                                                \r"
     ]
    }
   ],
   "source": [
    "from pyspark.ml.feature import VectorAssembler\n",
    "from pyspark.ml.classification import DecisionTreeClassifier\n",
    "va = VectorAssembler(inputCols=[\"loan_amount\", \"income\", \"interest_rate\"], outputCol=\"features\")\n",
    "dt = DecisionTreeClassifier(featuresCol=\"features\", labelCol=\"approval\", maxDepth=5)\n",
    "\n",
    "model = dt.fit(va.transform(train))\n",
    "\n",
    "from pyspark.ml.pipeline import Pipeline, PipelineModel"
   ]
  },
  {
   "cell_type": "code",
   "execution_count": 18,
   "id": "93835bb0-76a0-44d2-b5b8-687ddb8a61c5",
   "metadata": {},
   "outputs": [
    {
     "name": "stderr",
     "output_type": "stream",
     "text": [
      "23/11/11 02:25:59 WARN TaskSetManager: Stage 49 contains a task of very large size (8951 KiB). The maximum recommended task size is 1000 KiB.\n",
      "23/11/11 02:26:01 WARN TaskSetManager: Stage 52 contains a task of very large size (8951 KiB). The maximum recommended task size is 1000 KiB.\n",
      "23/11/11 02:26:01 WARN TaskSetManager: Stage 53 contains a task of very large size (8951 KiB). The maximum recommended task size is 1000 KiB.\n",
      "23/11/11 02:26:03 WARN TaskSetManager: Stage 54 contains a task of very large size (8951 KiB). The maximum recommended task size is 1000 KiB.\n",
      "23/11/11 02:26:06 WARN TaskSetManager: Stage 56 contains a task of very large size (8951 KiB). The maximum recommended task size is 1000 KiB.\n",
      "23/11/11 02:26:10 WARN TaskSetManager: Stage 58 contains a task of very large size (8951 KiB). The maximum recommended task size is 1000 KiB.\n",
      "23/11/11 02:26:12 WARN TaskSetManager: Stage 60 contains a task of very large size (8951 KiB). The maximum recommended task size is 1000 KiB.\n",
      "23/11/11 02:26:14 WARN TaskSetManager: Stage 62 contains a task of very large size (8987 KiB). The maximum recommended task size is 1000 KiB.\n",
      "23/11/11 02:26:16 WARN TaskSetManager: Stage 64 contains a task of very large size (8951 KiB). The maximum recommended task size is 1000 KiB.\n",
      "23/11/11 02:26:18 WARN TaskSetManager: Stage 66 contains a task of very large size (8951 KiB). The maximum recommended task size is 1000 KiB.\n",
      "                                                                                \r"
     ]
    },
    {
     "data": {
      "text/plain": [
       "0.8926433610004673"
      ]
     },
     "execution_count": 18,
     "metadata": {},
     "output_type": "execute_result"
    }
   ],
   "source": [
    "#q10\n",
    "\n",
    "pipe = Pipeline(stages=[va,dt])\n",
    "model = pipe.fit(train)\n",
    "df = model.transform(test).toPandas()\n",
    "\n",
    "correct = 0\n",
    "total = 0\n",
    "for i in range(len(df[\"approval\"])):\n",
    "    if (df[\"approval\"][i] == df[\"prediction\"][i]):\n",
    "        correct += 1\n",
    "    total += 1\n",
    "\n",
    "correct/total"
   ]
  },
  {
   "cell_type": "code",
   "execution_count": null,
   "id": "59ceacd9-09ff-495d-a994-9b5d3c860be8",
   "metadata": {},
   "outputs": [],
   "source": []
  }
 ],
 "metadata": {
  "kernelspec": {
   "display_name": "Python 3 (ipykernel)",
   "language": "python",
   "name": "python3"
  },
  "language_info": {
   "codemirror_mode": {
    "name": "ipython",
    "version": 3
   },
   "file_extension": ".py",
   "mimetype": "text/x-python",
   "name": "python",
   "nbconvert_exporter": "python",
   "pygments_lexer": "ipython3",
   "version": "3.10.12"
  }
 },
 "nbformat": 4,
 "nbformat_minor": 5
}
